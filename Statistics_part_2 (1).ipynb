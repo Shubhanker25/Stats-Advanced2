{
  "nbformat": 4,
  "nbformat_minor": 0,
  "metadata": {
    "colab": {
      "provenance": []
    },
    "kernelspec": {
      "name": "python3",
      "display_name": "Python 3"
    },
    "language_info": {
      "name": "python"
    }
  },
  "cells": [
    {
      "cell_type": "markdown",
      "source": [
        "Qns-1 What is hypothesis testing in statistics?\n",
        "\n",
        "Ans-Hypothesis testing is a statistical method used to make decisions or inferences about population parameters based on sample data.\n",
        "\n",
        "Hypothesis testing evaluates two mutually exclusive statements (hypotheses) about a population:\n",
        "\n",
        "Null hypothesis (H₀):\n",
        "The default assumption that there is no effect, no difference, or no relationship.\n",
        "\n",
        "Alternative hypothesis (H₁ or Ha):\n",
        "The competing claim that there is an effect, a difference, or a relationship"
      ],
      "metadata": {
        "id": "9lYK1HPVcTcz"
      }
    },
    {
      "cell_type": "markdown",
      "source": [
        "Qns-2 What is the null hypothesis, and how does it differ from the alternative hypothesis?\n",
        "\n",
        "Ans- The null hypothesis is the default or starting assumption in a hypothesis test. It usually states that there is no effect, no difference, or no relationship between variables.\n",
        "\n",
        "The null hypothesis (H₀) is the default assumption that there is no effect, no difference, or no relationship between variables. In contrast, the alternative hypothesis (H₁ or Ha) is what you propose if you suspect there is an effect or difference. Hypothesis testing starts by assuming H₀ is true; if the evidence from data is strong enough (typically measured by the p-value), H₀ is rejected in favor of H₁. Simply put, H₀ is the claim of “nothing’s happening,” while H₁ suggests “something is happening.”"
      ],
      "metadata": {
        "id": "UbEVUH4gcw02"
      }
    },
    {
      "cell_type": "markdown",
      "source": [
        "Qns-3 What is the significance level in hypothesis testing, and why is it important?\n",
        "\n",
        "Ans The significance level, denoted by α (alpha), is the threshold used to decide whether to reject the null hypothesis in a hypothesis test. It represents the maximum probability of making a Type I error—that is, rejecting the null hypothesis when it is actually true."
      ],
      "metadata": {
        "id": "9twJQ52-dCps"
      }
    },
    {
      "cell_type": "markdown",
      "source": [
        "Qns-4 What does a P-value represent in hypothesis testing?\n",
        "\n",
        "Ans-A p-value is the probability of obtaining results at least as extreme as the ones observed in your sample, assuming the null hypothesis (H₀) is true.\n",
        "\n"
      ],
      "metadata": {
        "id": "VckWmxmZdKBa"
      }
    },
    {
      "cell_type": "markdown",
      "source": [
        "Qns-5 How do you interpret the P-value in hypothesis testing?\n",
        "\n",
        "Ans A small p-value suggests evidence against H₀, but it doesn't prove H₁ is true.\n",
        "\n",
        "A large p-value means insufficient evidence, not that H₀ is true.\n",
        "\n",
        "Always consider effect size, sample size, and context alongside the p-value."
      ],
      "metadata": {
        "id": "Xg1Rsm2SdQ4T"
      }
    },
    {
      "cell_type": "markdown",
      "source": [
        "Qns-6 > What are Type 1 and Type 2 errors in hypothesis testing?\n",
        "\n",
        "Ans  Type I Error (False Positive)\n",
        "Definition: Rejecting the null hypothesis (H₀) when it is actually true.\n",
        "\n",
        "You say there is an effect or difference, but there isn't.\n",
        "\n",
        "Probability of this error = α (significance level, e.g., 0.05)\n",
        "\n",
        " Example: You conclude a new drug works, but it actually doesn't.\n",
        "\n",
        "Type II Error (False Negative)\n",
        "Definition: Failing to reject the null hypothesis (H₀) when it is actually false.\n",
        "\n",
        "You say there is no effect or difference, but there is.\n",
        "\n",
        "Probability of this error = β\n",
        "\n",
        "Power of the test = 1 − β (chance of correctly detecting a true effect)\n",
        "\n",
        " Example: You conclude the drug doesn't work, but it actually does."
      ],
      "metadata": {
        "id": "JqHbrMs9dhrL"
      }
    },
    {
      "cell_type": "markdown",
      "source": [
        "Qns-7 What is the difference between a one-tailed and a two-tailed test in hypothesis testing?\n",
        "\n",
        "Ans  A one-tailed test in hypothesis testing checks for an effect in only one direction (e.g., whether a mean is greater than or less than a specific value), while a two-tailed test checks for an effect in either direction (e.g., whether a mean is different from a specific value, either higher or lower). Use a one-tailed test when you have a clear directional hypothesis, and a two-tailed test when you're testing for any significant difference, regardless of direction."
      ],
      "metadata": {
        "id": "4tcHI5jod3Jw"
      }
    },
    {
      "cell_type": "markdown",
      "source": [
        "Qns-8 What is the Z-test, and when is it used in hypothesis testing?\n",
        "\n",
        "Ans A Z-test is a statistical test used to determine whether there's a significant difference between sample data and a population parameter (like the mean or proportion), assuming the population standard deviation is known and the sample size is large (typically n > 30)."
      ],
      "metadata": {
        "id": "M8anHF8meC7A"
      }
    },
    {
      "cell_type": "markdown",
      "source": [
        "Qns-9  How do you calculate the Z-score, and what does it represent in hypothesis testing?\n",
        "\n",
        "AnsThe formula for calculating the Z-score is:\n",
        "\n",
        "𝑍\n",
        "=\n",
        "𝑋\n",
        "−\n",
        "𝜇\n",
        "𝜎\n",
        "/\n",
        "𝑛\n",
        "Z=\n",
        "σ/\n",
        "n\n",
        "​\n",
        "\n",
        "X−μ\n",
        "​\n",
        "\n",
        "Where:\n",
        "\n",
        "𝑋\n",
        "X = sample mean (or observed value)\n",
        "\n",
        "𝜇\n",
        "μ = population mean (under the null hypothesis)\n",
        "\n",
        "𝜎\n",
        "σ = population standard deviation\n",
        "\n",
        "𝑛\n",
        "n = sample size\n",
        "\n",
        "What the Z-Score Represents in Hypothesis Testing:\n",
        "The Z-score tells you how far your sample statistic is from the hypothesized population parameter in terms of standard deviations.\n",
        "\n",
        "A high Z-score (positive or negative) indicates that the sample mean is far from the population mean, which suggests the result is statistically significant.\n",
        "\n",
        "A low Z-score suggests the sample mean is close to the population mean, indicating there's not enough evidence to reject the null hypothesis."
      ],
      "metadata": {
        "id": "nzF_M2SUeKMS"
      }
    },
    {
      "cell_type": "markdown",
      "source": [
        "Qns-10 What is the T-distribution, and when should it be used instead of the normal distribution?\n",
        "\n",
        "Ans The T-distribution (also called Student's t-distribution) is a probability distribution that is similar to the normal distribution but with heavier tails. This means it accounts for more variability in data, especially when sample sizes are small. As the sample size increases, the T-distribution approaches the shape of the normal distribution.\n",
        "\n",
        "The T-distribution is primarily used when you're estimating the mean of a population and the sample size is small, or when the population standard deviation is unknown."
      ],
      "metadata": {
        "id": "AEk-X6Vcd6v8"
      }
    },
    {
      "cell_type": "markdown",
      "source": [
        "Qns-11 What is the difference between a Z-test and a T-test?\n",
        "\n",
        "AnsThe Z-test and T-test are both used for hypothesis testing, but they differ in their assumptions. A Z-test is used when the sample size is large (typically n > 30) and the population standard deviation is known. It assumes the data follows a normal distribution or that the sample size is large enough for the Central Limit Theorem to apply. A T-test, on the other hand, is used for small sample sizes (n < 30) or when the population standard deviation is unknown, and it relies on the T-distribution, which accounts for more variability. As sample sizes increase, the T-test approaches the Z-test."
      ],
      "metadata": {
        "id": "GwhZTb2TfM3p"
      }
    },
    {
      "cell_type": "markdown",
      "source": [
        "Qns-12 What is the T-test, and how is it used in hypothesis testing?\n",
        "\n",
        "Ans he T-test is a statistical test used to compare the means of two groups (or a sample mean to a population mean) to determine if there is a significant difference between them. It is commonly used when the sample size is small (typically n < 30) and when the population standard deviation is unknown.\n",
        "\n",
        "The T-test is based on the T-distribution, which is similar to the normal distribution but has heavier tails, accounting for more variability when sample sizes are small."
      ],
      "metadata": {
        "id": "Gi2GdhyrfV3R"
      }
    },
    {
      "cell_type": "markdown",
      "source": [
        "Qns-13 What is the relationship between Z-test and T-test in hypothesis testing?\n",
        "\n",
        "Ans- As sample size increases, the T-distribution approaches the normal distribution, meaning the results of a T-test will become similar to a Z-test for large samples.\n",
        "\n",
        "In practice, for large sample sizes, the Z-test is often used, even when the population standard deviation is unknown, because the sample standard deviation provides a good estimate of the population standard deviation."
      ],
      "metadata": {
        "id": "-sCEG0VqfeTi"
      }
    },
    {
      "cell_type": "markdown",
      "source": [
        "Qns-14 What is a confidence interval, and how is it used to interpret statistical results?\n",
        "\n",
        "Ans  A confidence interval provides a range of values within which a population parameter is likely to lie, with a certain level of confidence. It helps interpret the precision of an estimate and is often used in hypothesis testing to assess whether a hypothesized value is plausible based on sample data.\n",
        "\n"
      ],
      "metadata": {
        "id": "o07qdaHLgUKd"
      }
    },
    {
      "cell_type": "markdown",
      "source": [
        "Qns-15 What is the margin of error, and how does it affect the confidence interval?\n",
        "\n",
        "Ans  The margin of error (MOE) is the amount of uncertainty or variability in a statistical estimate. It represents the range within which the true population parameter is likely to fall, considering the sample data. In other words, it is the distance added to and subtracted from the sample estimate (like the sample mean) to create a confidence interval.\n",
        "\n",
        "The margin of error is a key factor in determining the width of the confidence interval. A larger sample size or a lower confidence level will result in a smaller margin of error and thus a more precise confidence interval.\n",
        "\n"
      ],
      "metadata": {
        "id": "ascP4eLighpb"
      }
    },
    {
      "cell_type": "markdown",
      "source": [
        "Qns-16 How is Bayes' Theorem used in statistics, and what is its significance?\n",
        "\n",
        "Ans  Bayes' Theorem is a fundamental concept in statistics that describes the probability of an event, based on prior knowledge or evidence. It provides a way to update the probability of a hypothesis as more data or evidence becomes available. It's especially powerful for probabilistic reasoning and is widely used in various fields such as machine learning, medical testing, and decision-making.\n",
        "\n"
      ],
      "metadata": {
        "id": "d4kP4q9xgzCF"
      }
    },
    {
      "cell_type": "markdown",
      "source": [
        "Qns-17 What is the Chi-square distribution, and when is it used\n",
        "\n",
        "Ans The Chi-square distribution (χ² distribution) is a probability distribution that is widely used in statistics, particularly in hypothesis testing and in the construction of confidence intervals. It is a special case of the gamma distribution and is defined by a single parameter, called the degrees of freedom (df), which generally corresponds to the number of independent standard normal variables squared to form the statistic.\n",
        "\n",
        "The Chi-square test is used to assess if there's a significant association between categorical variables (test of independence) or if observed data fits a specific distribution (goodness of fit). It's also used for testing the homogeneity of proportions across different groups."
      ],
      "metadata": {
        "id": "lhENJUrZhJB4"
      }
    },
    {
      "cell_type": "markdown",
      "source": [
        "Qns-18 What is the Chi-square goodness of fit test, and how is it applied?\n",
        "\n",
        "Ans  The Chi-square goodness of fit test determines if observed frequencies match expected frequencies in a categorical dataset. It's applied by comparing the observed data to a theoretical distribution.\n",
        "A significant result indicates a mismatch between observed and expected distributions.\n",
        "\n",
        "\n",
        "\n"
      ],
      "metadata": {
        "id": "va7FffdxhdLV"
      }
    },
    {
      "cell_type": "markdown",
      "source": [
        "Qns-19 What is the F-distribution, and when is it used in hypothesis testing?\n",
        "\n",
        "Ans The F-distribution is a probability distribution used in hypothesis testing to compare variances between two populations or models. It's used primarily in ANOVA (Analysis of Variance) and regression analysis to test if the variances of different groups are significantly different."
      ],
      "metadata": {
        "id": "0rp0jIeoh0oi"
      }
    },
    {
      "cell_type": "markdown",
      "source": [
        "Qns20-  What is an ANOVA test, and what are its assumptions?\n",
        "\n",
        "Ans ANOVA (Analysis of Variance) tests if there are significant differences between the means of three or more groups.\n",
        "\n",
        "Assumptions:\n",
        "\n",
        "Independence of observations.\n",
        "\n",
        "Normality of the data within each group.\n",
        "\n",
        "Homogeneity of variances (equal variances across groups)."
      ],
      "metadata": {
        "id": "L_RAB1Jkh-qL"
      }
    },
    {
      "cell_type": "markdown",
      "source": [
        "Qns-21 What are the different types of ANOVA tests?\n",
        "\n",
        "Ans The main types of ANOVA tests are:\n",
        "\n",
        "One-Way ANOVA: Compares means of three or more independent groups based on one factor.\n",
        "\n",
        "Two-Way ANOVA: Compares means based on two factors, and can assess interaction between them.\n",
        "\n",
        "Repeated Measures ANOVA: Used when the same subjects are measured multiple times (e.g., longitudinal data).\n",
        "\n",
        "Multivariate ANOVA (MANOVA): Compares means across multiple dependent variables simultaneously."
      ],
      "metadata": {
        "id": "9IrgszMCiF4b"
      }
    },
    {
      "cell_type": "markdown",
      "source": [
        "Qns-22  What is the F-test, and how does it relate to hypothesis testing?\n",
        "\n",
        "Ans The F-test compares the variances of two or more groups to determine if they are significantly different. In hypothesis testing, it is used in ANOVA and regression analysis to assess the ratio of variances and test if group means or model fits differ significantly. A large F-value indicates a significant difference."
      ],
      "metadata": {
        "id": "G3OohSf7iPlP"
      }
    },
    {
      "cell_type": "markdown",
      "source": [
        "Qns-1 Write a Python program to generate a random variable and display its value?"
      ],
      "metadata": {
        "id": "RV1zGoS0jTBX"
      }
    },
    {
      "cell_type": "code",
      "source": [
        "#Ans\n",
        "import random\n",
        "\n",
        "# Generate a random variable between 0 and 1\n",
        "random_value = random.random()\n",
        "\n",
        "# Display the value\n",
        "print(\"Random value:\", random_value)\n"
      ],
      "metadata": {
        "colab": {
          "base_uri": "https://localhost:8080/"
        },
        "id": "7_qrXc2RjVq6",
        "outputId": "3db0773e-85e6-4f4d-e9e7-6568e69032a0"
      },
      "execution_count": 2,
      "outputs": [
        {
          "output_type": "stream",
          "name": "stdout",
          "text": [
            "Random value: 0.7578556575255238\n"
          ]
        }
      ]
    },
    {
      "cell_type": "markdown",
      "source": [
        "Qns-2 Generate a discrete uniform distribution using Python and plot the probability mass function (PMF)?"
      ],
      "metadata": {
        "id": "9rALP9injfhV"
      }
    },
    {
      "cell_type": "code",
      "source": [
        "#Ans\n",
        "import numpy as np\n",
        "import matplotlib.pyplot as plt\n",
        "from scipy.stats import randint\n",
        "\n",
        "# Parameters for the discrete uniform distribution\n",
        "low, high = 1, 6  # for a 6-sided die\n",
        "\n",
        "# Generate a discrete uniform distribution\n",
        "x = np.arange(low, high + 1)\n",
        "pmf = randint.pmf(x, low, high - low + 1)\n",
        "\n",
        "# Plotting the PMF\n",
        "plt.stem(x, pmf, basefmt=\" \", linefmt=\"b-\", markerfmt=\"bo\", use_line_collection=True)\n",
        "plt.xlabel('Outcomes')\n",
        "plt.ylabel('Probability')\n",
        "plt.title('Probability Mass Function (PMF) of Discrete Uniform Distribution')\n",
        "plt.xticks(x)\n",
        "plt.show()\n"
      ],
      "metadata": {
        "id": "S9OoG4QGjknG"
      },
      "execution_count": null,
      "outputs": []
    },
    {
      "cell_type": "markdown",
      "source": [
        "Qns-3 Write a Python function to calculate the probability distribution function (PDF) of a Bernoulli distribution?"
      ],
      "metadata": {
        "id": "oMATMAqXkTCS"
      }
    },
    {
      "cell_type": "code",
      "source": [
        "#Ans\n",
        "def bernoulli_pdf(p, x):\n",
        "    \"\"\"\n",
        "    Calculate the Probability Density Function (PDF) of a Bernoulli distribution.\n",
        "\n",
        "    Parameters:\n",
        "    p (float): Probability of success (0 <= p <= 1)\n",
        "    x (int): Outcome (either 0 or 1)\n",
        "\n",
        "    Returns:\n",
        "    float: Probability of the outcome x\n",
        "    \"\"\"\n",
        "    if x not in [0, 1]:\n",
        "        raise ValueError(\"x must be either 0 or 1\")\n",
        "    return p**x * (1 - p)**(1 - x)\n",
        "\n",
        "# Example usage\n",
        "p = 0.7  # Probability of success\n",
        "x_values = [0, 1]\n",
        "\n",
        "# Calculate and print PDF for both outcomes\n",
        "for x in x_values:\n",
        "    print(f\"P(X = {x}) = {bernoulli_pdf(p, x)}\")\n"
      ],
      "metadata": {
        "colab": {
          "base_uri": "https://localhost:8080/"
        },
        "id": "aso2VQLlkX5o",
        "outputId": "0b540b34-34d6-47b0-f47f-d84b6c937367"
      },
      "execution_count": 8,
      "outputs": [
        {
          "output_type": "stream",
          "name": "stdout",
          "text": [
            "P(X = 0) = 0.30000000000000004\n",
            "P(X = 1) = 0.7\n"
          ]
        }
      ]
    },
    {
      "cell_type": "markdown",
      "source": [
        "Qns-4 Write a Python script to simulate a binomial distribution with n=10 and p=0.5, then plot its histogram"
      ],
      "metadata": {
        "id": "WAVm9U1ak2wn"
      }
    },
    {
      "cell_type": "code",
      "source": [
        "#Ans\n",
        "import numpy as np\n",
        "import matplotlib.pyplot as plt\n",
        "\n",
        "# Parameters for the binomial distribution\n",
        "n = 10  # number of trials\n",
        "p = 0.5  # probability of success\n",
        "size = 10000  # number of simulations\n",
        "\n",
        "# Simulate binomial distribution\n",
        "binomial_data = np.random.binomial(n, p, size)\n",
        "\n",
        "# Plotting the histogram\n",
        "plt.hist(binomial_data, bins=np.arange(n+2) - 0.5, edgecolor='black', density=True)\n",
        "plt.xlabel('Number of successes')\n",
        "plt.ylabel('Probability')\n",
        "plt.title(f'Binomial Distribution (n={n}, p={p})')\n",
        "plt.xticks(np.arange(0, n+1))\n",
        "plt.grid(True)\n",
        "plt.show()\n"
      ],
      "metadata": {
        "colab": {
          "base_uri": "https://localhost:8080/",
          "height": 472
        },
        "id": "tMedcLlMk66n",
        "outputId": "eb343687-bb49-4edc-da24-d12ad544338b"
      },
      "execution_count": 9,
      "outputs": [
        {
          "output_type": "display_data",
          "data": {
            "text/plain": [
              "<Figure size 640x480 with 1 Axes>"
            ],
            "image/png": "[encoded data removed]"
          },
          "metadata": {}
        }
      ]
    },
    {
      "cell_type": "markdown",
      "source": [
        "Qns-5 Create a Poisson distribution and visualize it using Python?"
      ],
      "metadata": {
        "id": "kgo3HXoPlBHH"
      }
    },
    {
      "cell_type": "code",
      "source": [
        "#Ans\n",
        "import numpy as np\n",
        "import matplotlib.pyplot as plt\n",
        "\n",
        "# Parameters for Poisson distribution\n",
        "lambda_ = 3  # average rate (mean)\n",
        "size = 10000  # number of samples\n",
        "\n",
        "# Generate Poisson distributed data\n",
        "poisson_data = np.random.poisson(lambda_, size)\n",
        "\n",
        "# Plotting the histogram\n",
        "plt.hist(poisson_data, bins=30, edgecolor='black', density=True)\n",
        "plt.xlabel('Number of events')\n",
        "plt.ylabel('Probability')\n",
        "plt.title(f'Poisson Distribution (lambda={lambda_})')\n",
        "plt.grid(True)\n",
        "plt.show()\n"
      ],
      "metadata": {
        "colab": {
          "base_uri": "https://localhost:8080/",
          "height": 472
        },
        "id": "1S2jzxM2lGkO",
        "outputId": "4e351c01-d69d-4e3d-e0ba-0537a2a1fe18"
      },
      "execution_count": 10,
      "outputs": [
        {
          "output_type": "display_data",
          "data": {
            "text/plain": [
              "<Figure size 640x480 with 1 Axes>"
            ],
            "image/png": "[encoded data removed]"
          },
          "metadata": {}
        }
      ]
    },
    {
      "cell_type": "markdown",
      "source": [
        "Qns-6 Write a Python program to calculate and plot the cumulative distribution function (CDF) of a discrete uniform distribution"
      ],
      "metadata": {
        "id": "KmvrPLGxln3O"
      }
    },
    {
      "cell_type": "code",
      "source": [
        "#Ans\n",
        "import numpy as np\n",
        "import matplotlib.pyplot as plt\n",
        "from scipy.stats import uniform\n",
        "\n",
        "# Parameters for the discrete uniform distribution\n",
        "low, high = 1, 6  # for a 6-sided die\n",
        "\n",
        "# Generate the discrete uniform distribution\n",
        "x = np.arange(low, high + 1)\n",
        "cdf = uniform.cdf(x, low, high - low + 1)\n",
        "\n",
        "# Plotting the CDF\n",
        "plt.step(x, cdf, where='post', linestyle='-', color='blue', marker='o')\n",
        "plt.xlabel('Outcomes')\n",
        "plt.ylabel('Cumulative Probability')\n",
        "plt.title('Cumulative Distribution Function (CDF) of Discrete Uniform Distribution')\n",
        "plt.xticks(x)\n",
        "plt.grid(True)\n",
        "plt.show()\n"
      ],
      "metadata": {
        "id": "cYaFwwKlltfI"
      },
      "execution_count": null,
      "outputs": []
    },
    {
      "cell_type": "markdown",
      "source": [
        "Qns-7  Generate a continuous uniform distribution using NumPy and visualize it?"
      ],
      "metadata": {
        "id": "DrIqQ9OwlyUM"
      }
    },
    {
      "cell_type": "code",
      "source": [
        "#Ans\n",
        "import numpy as np\n",
        "import matplotlib.pyplot as plt\n",
        "\n",
        "# Parameters for the continuous uniform distribution\n",
        "low, high = 0, 1  # Define the range [low, high]\n",
        "size = 10000  # Number of samples\n",
        "\n",
        "# Generate continuous uniform distribution using NumPy\n",
        "uniform_data = np.random.uniform(low, high, size)\n",
        "\n",
        "# Plotting the histogram\n",
        "plt.hist(uniform_data, bins=30, edgecolor='black', density=True, alpha=0.7)\n",
        "plt.xlabel('Value')\n",
        "plt.ylabel('Density')\n",
        "plt.title('Continuous Uniform Distribution (0, 1)')\n",
        "plt.grid(True)\n",
        "plt.show()\n"
      ],
      "metadata": {
        "id": "k5X1H1VYl2tn"
      },
      "execution_count": null,
      "outputs": []
    },
    {
      "cell_type": "markdown",
      "source": [
        "Qns-8  Simulate data from a normal distribution and plot its histogram?"
      ],
      "metadata": {
        "id": "J4OCVd1wl6Dc"
      }
    },
    {
      "cell_type": "code",
      "source": [
        "#Ans\n",
        "import numpy as np\n",
        "import matplotlib.pyplot as plt\n",
        "\n",
        "# Parameters for the normal distribution\n",
        "mean = 0       # Mean of the distribution\n",
        "std_dev = 1    # Standard deviation of the distribution\n",
        "size = 10000   # Number of samples\n",
        "\n",
        "# Simulate data from a normal distribution\n",
        "normal_data = np.random.normal(mean, std_dev, size)\n",
        "\n",
        "# Plotting the histogram\n",
        "plt.hist(normal_data, bins=30, edgecolor='black', density=True, alpha=0.7)\n",
        "plt.xlabel('Value')\n",
        "plt.ylabel('Density')\n",
        "plt.title('Histogram of Simulated Normal Distribution')\n",
        "plt.grid(True)\n",
        "plt.show()\n"
      ],
      "metadata": {
        "id": "wGRg3G1Pl895"
      },
      "execution_count": null,
      "outputs": []
    },
    {
      "cell_type": "markdown",
      "source": [
        "Qns9 > Write a Python function to calculate Z-scores from a dataset and plot them?"
      ],
      "metadata": {
        "id": "M1H01fmQmEVU"
      }
    },
    {
      "cell_type": "code",
      "source": [
        "#Ans\n",
        "import numpy as np\n",
        "import matplotlib.pyplot as plt\n",
        "\n",
        "def calculate_z_scores(data):\n",
        "\n",
        "    mean = np.mean(data)\n",
        "    std_dev = np.std(data)\n",
        "\n",
        "    # Z-score formula: (X - mean) / std_dev\n",
        "    z_scores = (data - mean) / std_dev\n",
        "    return z_scores\n",
        "\n",
        "# Example dataset\n",
        "data = np.random.normal(0, 1, 1000)  # Simulating 1000 data points from a normal distribution\n",
        "\n",
        "# Calculate Z-scores\n",
        "z_scores = calculate_z_scores(data)\n",
        "\n",
        "# Plotting the Z-scores\n",
        "plt.hist(z_scores, bins=30, edgecolor='black', density=True, alpha=0.7)\n",
        "plt.xlabel('Z-score')\n",
        "plt.ylabel('Density')\n",
        "plt.title('Histogram of Z-scores')\n",
        "plt.grid(True)\n",
        "plt.show()\n"
      ],
      "metadata": {
        "colab": {
          "base_uri": "https://localhost:8080/",
          "height": 472
        },
        "id": "V5p4A6ESmJNG",
        "outputId": "76bf86a1-c121-4a10-e475-5c79b5efba52"
      },
      "execution_count": 11,
      "outputs": [
        {
          "output_type": "display_data",
          "data": {
            "text/plain": [
              "<Figure size 640x480 with 1 Axes>"
            ],
            "image/png": "[encoded data removed]"
          },
          "metadata": {}
        }
      ]
    },
    {
      "cell_type": "markdown",
      "source": [
        "Qns10- Implement the Central Limit Theorem (CLT) using Python for a non-normal distribution?"
      ],
      "metadata": {
        "id": "wSqJP0JlmcXS"
      }
    },
    {
      "cell_type": "code",
      "source": [
        "#Ans\n",
        "import numpy as np\n",
        "import matplotlib.pyplot as plt\n",
        "\n",
        "# Parameters for the exponential distribution\n",
        "lambda_ = 1  # rate parameter (mean = 1 / lambda_)\n",
        "sample_size = 30  # number of data points in each sample\n",
        "num_samples = 1000  # number of samples to draw\n",
        "\n",
        "# Generate non-normal data (Exponential Distribution)\n",
        "population_data = np.random.exponential(scale=1/lambda_, size=10000)\n",
        "\n",
        "# Collect sample means\n",
        "sample_means = []\n",
        "\n",
        "for _ in range(num_samples):\n",
        "    sample = np.random.choice(population_data, size=sample_size)\n",
        "    sample_means.append(np.mean(sample))\n",
        "\n",
        "# Plotting the sample means\n",
        "plt.hist(sample_means, bins=30, edgecolor='black', density=True, alpha=0.7)\n",
        "plt.xlabel('Sample Mean')\n",
        "plt.ylabel('Density')\n",
        "plt.title(f'Central Limit Theorem (CLT) with Exponential Distribution\\nSample Size={sample_size}, Number of Samples={num_samples}')\n",
        "plt.grid(True)\n",
        "plt.show()\n"
      ],
      "metadata": {
        "id": "qe0f1LDcmibv"
      },
      "execution_count": null,
      "outputs": []
    },
    {
      "cell_type": "markdown",
      "source": [
        "Qns-11  Simulate multiple samples from a normal distribution and verify the Central Limit Theorem?"
      ],
      "metadata": {
        "id": "WfYboEO2mq1h"
      }
    },
    {
      "cell_type": "code",
      "source": [
        "#Ans\n",
        "import numpy as np\n",
        "import matplotlib.pyplot as plt\n",
        "\n",
        "# Parameters for the normal distribution\n",
        "population_mean = 0\n",
        "population_std = 1\n",
        "population_size = 10000  # Size of the population\n",
        "sample_size = 30  # Number of data points in each sample\n",
        "num_samples = 1000  # Number of samples to draw\n",
        "\n",
        "# Step 1: Generate population data (normal distribution)\n",
        "population_data = np.random.normal(population_mean, population_std, population_size)\n",
        "\n",
        "# Step 2: Collect sample means\n",
        "sample_means = []\n",
        "\n",
        "for _ in range(num_samples):\n",
        "    sample = np.random.choice(population_data, size=sample_size)\n",
        "    sample_means.append(np.mean(sample))\n",
        "\n",
        "# Step 3: Plot the distribution of sample means\n",
        "plt.hist(sample_means, bins=30, edgecolor='black', density=True, alpha=0.7)\n",
        "plt.xlabel('Sample Mean')\n",
        "plt.ylabel('Density')\n",
        "plt.title(f'Central Limit Theorem (CLT) with Normal Distribution\\nSample Size={sample_size}, Number of Samples={num_samples}')\n",
        "plt.grid(True)\n",
        "plt.show()\n"
      ],
      "metadata": {
        "colab": {
          "base_uri": "https://localhost:8080/",
          "height": 493
        },
        "id": "Lx91xlyPmvTV",
        "outputId": "709a4dcd-4421-4753-8095-58946b860aad"
      },
      "execution_count": 12,
      "outputs": [
        {
          "output_type": "display_data",
          "data": {
            "text/plain": [
              "<Figure size 640x480 with 1 Axes>"
            ],
            "image/png": "[encoded data removed]"
          },
          "metadata": {}
        }
      ]
    },
    {
      "cell_type": "markdown",
      "source": [
        "Qns-12 Write a Python function to calculate and plot the standard normal distribution (mean = 0, std = 1)?"
      ],
      "metadata": {
        "id": "LFe71LlIm-U5"
      }
    },
    {
      "cell_type": "code",
      "source": [
        "#Ans\n",
        "import numpy as np\n",
        "import matplotlib.pyplot as plt\n",
        "from scipy.stats import norm\n",
        "\n",
        "def plot_standard_normal_distribution():\n",
        "    # Define the range of x values (for plotting)\n",
        "    x = np.linspace(-5, 5, 1000)  # Range from -5 to 5 with 1000 points\n",
        "\n",
        "    # Calculate the probability density function (PDF) of the standard normal distribution\n",
        "    y = norm.pdf(x, loc=0, scale=1)  # loc=0 (mean), scale=1 (std)\n",
        "\n",
        "    # Plot the standard normal distribution\n",
        "    plt.plot(x, y, label='Standard Normal Distribution (mean=0, std=1)', color='b')\n",
        "    plt.fill_between(x, y, alpha=0.2, color='blue')  # Optional: fill the area under the curve\n",
        "    plt.title('Standard Normal Distribution (mean = 0, std = 1)')\n",
        "    plt.xlabel('X')\n",
        "    plt.ylabel('Probability Density')\n",
        "    plt.grid(True)\n",
        "    plt.legend()\n",
        "    plt.show()\n",
        "plot_standard_normal_distribution()\n"
      ],
      "metadata": {
        "colab": {
          "base_uri": "https://localhost:8080/",
          "height": 472
        },
        "id": "2z5uFtognB6p",
        "outputId": "82aa3096-4d31-4a50-a1e4-2945e3d1c006"
      },
      "execution_count": 13,
      "outputs": [
        {
          "output_type": "display_data",
          "data": {
            "text/plain": [
              "<Figure size 640x480 with 1 Axes>"
            ],
            "image/png": "[encoded data removed]"
          },
          "metadata": {}
        }
      ]
    },
    {
      "cell_type": "markdown",
      "source": [
        "Qns-13 Generate random variables and calculate their corresponding probabilities using the binomial distribution?"
      ],
      "metadata": {
        "id": "UmNlGUaHnNI-"
      }
    },
    {
      "cell_type": "code",
      "source": [
        "#ans\n",
        "import numpy as np\n",
        "import matplotlib.pyplot as plt\n",
        "from scipy.stats import binom\n",
        "\n",
        "def generate_binomial_data(n, p, size):\n",
        "    random_variables = np.random.binomial(n, p, size)\n",
        "    probabilities = binom.pmf(random_variables, n, p)\n",
        "    return random_variables, probabilities\n",
        "\n",
        "n = 10\n",
        "p = 0.5\n",
        "size = 1000\n",
        "\n",
        "random_variables, probabilities = generate_binomial_data(n, p, size)\n",
        "\n",
        "plt.hist(random_variables, bins=np.arange(n+2) - 0.5, edgecolor='black', density=True, alpha=0.7)\n",
        "plt.xlabel('Number of successes')\n",
        "plt.ylabel('Probability')\n",
        "plt.title(f'Binomial Distribution (n={n}, p={p})')\n",
        "plt.xticks(np.arange(0, n+1))\n",
        "plt.grid(True)\n",
        "plt.show()\n",
        "\n",
        "for i in range(10):\n",
        "    print(f'{random_variables[i]}, {probabilities[i]}')\n"
      ],
      "metadata": {
        "id": "xY5ulF_ZnQaj"
      },
      "execution_count": null,
      "outputs": []
    },
    {
      "cell_type": "markdown",
      "source": [
        "Qns-14 Write a Python program to calculate the Z-score for a given data point and compare it to a standard normal\n",
        "distribution"
      ],
      "metadata": {
        "id": "DskG6boSneyU"
      }
    },
    {
      "cell_type": "code",
      "source": [
        "#ANS\n",
        "import numpy as np\n",
        "import scipy.stats as stats\n",
        "import matplotlib.pyplot as plt\n",
        "\n",
        "def calculate_z_score(data_point, mean, std_dev):\n",
        "    return (data_point - mean) / std_dev\n",
        "\n",
        "data_point = 10\n",
        "mean = 8\n",
        "std_dev = 2\n",
        "\n",
        "z_score = calculate_z_score(data_point, mean, std_dev)\n",
        "print(f'Z-score for data point {data_point}: {z_score}')\n",
        "\n",
        "x = np.linspace(-4, 4, 1000)\n",
        "y = stats.norm.pdf(x, 0, 1)\n",
        "\n",
        "plt.plot(x, y, label='Standard Normal Distribution')\n",
        "plt.axvline(x=z_score, color='r', linestyle='--', label=f'Z-score: {z_score:.2f}')\n",
        "plt.title('Standard Normal Distribution and Z-score Comparison')\n",
        "plt.xlabel('X')\n",
        "plt.ylabel('Probability Density')\n",
        "plt.legend()\n",
        "plt.grid(True)\n",
        "plt.show()\n"
      ],
      "metadata": {
        "id": "wbYW2FTgniOm"
      },
      "execution_count": null,
      "outputs": []
    },
    {
      "cell_type": "markdown",
      "source": [
        "qNS-15 E Implement hypothesis testing using Z-statistics for a sample dataset"
      ],
      "metadata": {
        "id": "6BMSmJy_noxV"
      }
    },
    {
      "cell_type": "code",
      "source": [
        "#Ans\n",
        "import numpy as np\n",
        "from scipy import stats\n",
        "\n",
        "def z_test(sample, population_mean, population_std, alpha=0.05):\n",
        "    sample_mean = np.mean(sample)\n",
        "    sample_size = len(sample)\n",
        "    z_statistic = (sample_mean - population_mean) / (population_std / np.sqrt(sample_size))\n",
        "\n",
        "    p_value = 2 * (1 - stats.norm.cdf(abs(z_statistic)))  # Two-tailed test\n",
        "    print(f'Z-statistic: {z_statistic}')\n",
        "    print(f'P-value: {p_value}')\n",
        "\n",
        "    if p_value < alpha:\n",
        "        print(f'Reject the null hypothesis (p-value = {p_value} < alpha = {alpha})')\n",
        "    else:\n",
        "        print(f'Fail to reject the null hypothesis (p-value = {p_value} >= alpha = {alpha})')\n",
        "\n",
        "# Sample dataset\n",
        "sample = np.array([10, 12, 9, 11, 13, 14, 10, 12, 15, 11])\n",
        "\n",
        "# Population parameters\n",
        "population_mean = 12\n",
        "population_std = 2\n",
        "\n",
        "# Perform Z-test\n",
        "z_test(sample, population_mean, population_std)\n"
      ],
      "metadata": {
        "colab": {
          "base_uri": "https://localhost:8080/"
        },
        "id": "Q_3qSr6SntKE",
        "outputId": "d90ac1d9-0d1d-49ca-8ef8-5eefdb7ef3e4"
      },
      "execution_count": 14,
      "outputs": [
        {
          "output_type": "stream",
          "name": "stdout",
          "text": [
            "Z-statistic: -0.474341649025258\n",
            "P-value: 0.6352562959972476\n",
            "Fail to reject the null hypothesis (p-value = 0.6352562959972476 >= alpha = 0.05)\n"
          ]
        }
      ]
    },
    {
      "cell_type": "markdown",
      "source": [
        "Qns-16 Create a confidence interval for a dataset using Python and interpret the result?"
      ],
      "metadata": {
        "id": "xFeeSLePoROd"
      }
    },
    {
      "cell_type": "code",
      "source": [
        "#Ans\n",
        "import numpy as np\n",
        "from scipy import stats\n",
        "\n",
        "def confidence_interval(data, confidence=0.95):\n",
        "    mean = np.mean(data)\n",
        "    std_err = np.std(data, ddof=1) / np.sqrt(len(data))\n",
        "    t_critical = stats.t.ppf((1 + confidence) / 2, len(data) - 1)\n",
        "    margin_of_error = t_critical * std_err\n",
        "    return mean - margin_of_error, mean + margin_of_error\n",
        "\n",
        "data = [12, 14, 15, 13, 16, 14, 13, 15, 17, 18]\n",
        "lower, upper = confidence_interval(data)\n",
        "print(f\"Confidence Interval: ({lower:.2f}, {upper:.2f})\")\n"
      ],
      "metadata": {
        "id": "a5p_N_f4oWGi"
      },
      "execution_count": null,
      "outputs": []
    },
    {
      "cell_type": "markdown",
      "source": [
        "Qns-17 Generate data from a normal distribution, then calculate and interpret the confidence interval for its mean"
      ],
      "metadata": {
        "id": "E6XcV4IGooWH"
      }
    },
    {
      "cell_type": "code",
      "source": [
        "#Ans\n",
        "import numpy as np\n",
        "from scipy import stats\n",
        "\n",
        "def confidence_interval(data, confidence=0.95):\n",
        "    mean = np.mean(data)\n",
        "    std_err = np.std(data, ddof=1) / np.sqrt(len(data))\n",
        "    t_critical = stats.t.ppf((1 + confidence) / 2, len(data) - 1)\n",
        "    margin_of_error = t_critical * std_err\n",
        "    return mean - margin_of_error, mean + margin_of_error\n",
        "\n",
        "# Generate data from a normal distribution (mean=50, std=10)\n",
        "data = np.random.normal(50, 10, 100)  # 100 data points\n",
        "\n",
        "# Calculate the confidence interval\n",
        "lower, upper = confidence_interval(data)\n",
        "print(f\"Confidence Interval: ({lower:.2f}, {upper:.2f})\")\n"
      ],
      "metadata": {
        "id": "N4Rw8utgosQk"
      },
      "execution_count": null,
      "outputs": []
    },
    {
      "cell_type": "markdown",
      "source": [
        "Qns-18 Write a Python script to calculate and visualize the probability density function (PDF) of a normal distribution"
      ],
      "metadata": {
        "id": "GFhMuTITo1_4"
      }
    },
    {
      "cell_type": "code",
      "source": [
        "#Ans\n",
        "import numpy as np\n",
        "import matplotlib.pyplot as plt\n",
        "from scipy.stats import norm\n",
        "\n",
        "# Parameters for the normal distribution\n",
        "mean = 0\n",
        "std_dev = 1\n",
        "\n",
        "# Generate a range of x values\n",
        "x = np.linspace(-5, 5, 1000)\n",
        "\n",
        "# Calculate the PDF of the normal distribution\n",
        "pdf = norm.pdf(x, mean, std_dev)\n",
        "\n",
        "# Plot the PDF\n",
        "plt.plot(x, pdf, label=f'Normal Distribution\\n(mean={mean}, std={std_dev})', color='b')\n",
        "plt.fill_between(x, pdf, alpha=0.2, color='blue')\n",
        "plt.title('Probability Density Function (PDF) of Normal Distribution')\n",
        "plt.xlabel('X')\n",
        "plt.ylabel('Probability Density')\n",
        "plt.grid(True)\n",
        "plt.legend()\n",
        "plt.show()\n"
      ],
      "metadata": {
        "id": "2dnramOjo6F3"
      },
      "execution_count": null,
      "outputs": []
    },
    {
      "cell_type": "markdown",
      "source": [
        "Qns-19  Use Python to calculate and interpret the cumulative distribution function (CDF) of a Poisson distribution?"
      ],
      "metadata": {
        "id": "XnYAnx3DpAQG"
      }
    },
    {
      "cell_type": "code",
      "source": [
        "#Ans\n",
        "import numpy as np\n",
        "import matplotlib.pyplot as plt\n",
        "from scipy.stats import poisson\n",
        "\n",
        "# Parameters\n",
        "mu = 3  # average rate (λ)\n",
        "\n",
        "# Values of x (number of events)\n",
        "x = np.arange(0, 11)\n",
        "\n",
        "# Calculate the CDF\n",
        "cdf = poisson.cdf(x, mu)\n",
        "\n",
        "# Print CDF values\n",
        "for xi, c in zip(x, cdf):\n",
        "    print(f\"P(X ≤ {xi}) = {c:.4f}\")\n",
        "\n",
        "# Plot the CDF\n",
        "plt.step(x, cdf, where='post', label=f'Poisson CDF (λ={mu})', color='purple')\n",
        "plt.xlabel('x (Number of Events)')\n",
        "plt.ylabel('Cumulative Probability')\n",
        "plt.title('CDF of Poisson Distribution')\n",
        "plt.grid(True)\n",
        "plt.legend()\n",
        "plt.show()\n"
      ],
      "metadata": {
        "id": "5jz03-ags8FK"
      },
      "execution_count": null,
      "outputs": []
    },
    {
      "cell_type": "markdown",
      "source": [
        "Qns-20 Simulate a random variable using a continuous uniform distribution and calculate its expected value?"
      ],
      "metadata": {
        "id": "JDZpEBdWs-Ff"
      }
    },
    {
      "cell_type": "code",
      "source": [
        "#Ans\n",
        "import numpy as np\n",
        "\n",
        "# Parameters for the uniform distribution\n",
        "a = 5   # lower bound\n",
        "b = 15  # upper bound\n",
        "\n",
        "# Simulate one random variable\n",
        "random_var = np.random.uniform(a, b)\n",
        "print(f\"Simulated Uniform Random Variable: {random_var:.4f}\")\n",
        "\n",
        "# Calculate expected value\n",
        "expected_value = (a + b) / 2\n",
        "print(f\"Expected Value (Mean) of U({a}, {b}): {expected_value}\")\n"
      ],
      "metadata": {
        "id": "XFjP7LKatCEW"
      },
      "execution_count": null,
      "outputs": []
    },
    {
      "cell_type": "markdown",
      "source": [
        "Qns-21 Write a Python program to compare the standard deviations of two datasets and visualize the difference?"
      ],
      "metadata": {
        "id": "tgRloeIntedm"
      }
    },
    {
      "cell_type": "code",
      "source": [
        "#Ans\n",
        "import numpy as np\n",
        "import matplotlib.pyplot as plt\n",
        "\n",
        "# Generate two datasets\n",
        "data1 = np.random.normal(50, 5, 100)   # Mean = 50, Std = 5\n",
        "data2 = np.random.normal(50, 10, 100)  # Mean = 50, Std = 10\n",
        "\n",
        "# Calculate standard deviations\n",
        "std1 = np.std(data1, ddof=1)\n",
        "std2 = np.std(data2, ddof=1)\n",
        "\n",
        "# Display values\n",
        "print(f\"Standard Deviation of Dataset 1: {std1:.2f}\")\n",
        "print(f\"Standard Deviation of Dataset 2: {std2:.2f}\")\n",
        "\n",
        "# Visualization\n",
        "labels = ['Dataset 1', 'Dataset 2']\n",
        "std_values = [std1, std2]\n",
        "\n",
        "plt.bar(labels, std_values, color=['skyblue', 'orange'])\n",
        "plt.title('Comparison of Standard Deviations')\n",
        "plt.ylabel('Standard Deviation')\n",
        "plt.grid(axis='y')\n",
        "plt.show()\n"
      ],
      "metadata": {
        "id": "zNx25mIttifI"
      },
      "execution_count": null,
      "outputs": []
    },
    {
      "cell_type": "markdown",
      "source": [
        "Qns-22 Calculate the range and interquartile range (IQR) of a dataset generated from a normal distribution?"
      ],
      "metadata": {
        "id": "vsKnhhu4tzfx"
      }
    },
    {
      "cell_type": "code",
      "source": [
        "#Ans\n",
        "\n",
        "import numpy as np\n",
        "\n",
        "# Generate dataset from a normal distribution\n",
        "data = np.random.normal(loc=50, scale=10, size=100)\n",
        "\n",
        "# Calculate range\n",
        "data_range = np.max(data) - np.min(data)\n",
        "\n",
        "# Calculate interquartile range (IQR)\n",
        "q1 = np.percentile(data, 25)\n",
        "q3 = np.percentile(data, 75)\n",
        "iqr = q3 - q1\n",
        "\n",
        "# Output results\n",
        "print(f\"Range: {data_range:.2f}\")\n",
        "print(f\"IQR (Interquartile Range): {iqr:.2f}\")\n"
      ],
      "metadata": {
        "id": "kdWf9J02t4KK"
      },
      "execution_count": null,
      "outputs": []
    },
    {
      "cell_type": "markdown",
      "source": [
        "Qns23 Implement Z-score normalization on a dataset and visualize its transformation?\n"
      ],
      "metadata": {
        "id": "ORdaLBp1uZSy"
      }
    },
    {
      "cell_type": "code",
      "source": [
        "#Ans\n",
        "import numpy as np\n",
        "import matplotlib.pyplot as plt\n",
        "from sklearn.preprocessing import StandardScaler\n",
        "\n",
        "# Generate raw data from a normal distribution (mean=60, std=15)\n",
        "data = np.random.normal(60, 15, 100).reshape(-1, 1)\n",
        "\n",
        "# Apply Z-score normalization\n",
        "scaler = StandardScaler()\n",
        "normalized_data = scaler.fit_transform(data)\n",
        "\n",
        "# Visualization: before and after normalization\n",
        "plt.figure(figsize=(10, 4))\n",
        "\n",
        "# Original data\n",
        "plt.subplot(1, 2, 1)\n",
        "plt.hist(data, bins=20, color='skyblue', edgecolor='black')\n",
        "plt.title('Original Data')\n",
        "plt.xlabel('Value')\n",
        "plt.ylabel('Frequency')\n",
        "\n",
        "# Normalized data\n",
        "plt.subplot(1, 2, 2)\n",
        "plt.hist(normalized_data, bins=20, color='lightgreen', edgecolor='black')\n",
        "plt.title('Z-score Normalized Data')\n",
        "plt.xlabel('Z-score')\n",
        "plt.ylabel('Frequency')\n",
        "\n",
        "plt.tight_layout()\n",
        "plt.show()\n"
      ],
      "metadata": {
        "id": "UEamiFKduc11"
      },
      "execution_count": null,
      "outputs": []
    },
    {
      "cell_type": "markdown",
      "source": [
        "Qns-24 Write a Python function to calculate the skewness and kurtosis of a dataset generated from a normal\n",
        "distribution"
      ],
      "metadata": {
        "id": "2FmwFsZgulWW"
      }
    },
    {
      "cell_type": "code",
      "source": [
        "#Ans\n",
        "import numpy as np\n",
        "from scipy.stats import skew, kurtosis\n",
        "\n",
        "def calc_skew_kurtosis(data):\n",
        "    sk = skew(data)\n",
        "    kt = kurtosis(data, fisher=True)  # Fisher=True gives 0 for normal distribution\n",
        "    return sk, kt\n",
        "\n",
        "# Generate data from a normal distribution\n",
        "data = np.random.normal(loc=0, scale=1, size=1000)\n",
        "\n",
        "# Calculate skewness and kurtosis\n",
        "skewness, kurt = calc_skew_kurtosis(data)\n",
        "print(f\"Skewness: {skewness:.4f}\")\n",
        "print(f\"Kurtosis: {kurt:.4f}\")\n"
      ],
      "metadata": {
        "colab": {
          "base_uri": "https://localhost:8080/"
        },
        "id": "Ke0ZaeMKuoPF",
        "outputId": "fbf12554-0037-4721-9c76-30152a428f46"
      },
      "execution_count": 15,
      "outputs": [
        {
          "output_type": "stream",
          "name": "stdout",
          "text": [
            "Skewness: 0.0796\n",
            "Kurtosis: 0.0073\n"
          ]
        }
      ]
    },
    {
      "cell_type": "markdown",
      "source": [
        "Qns-1 Write a Python program to perform a Z-test for comparing a sample mean to a known population mean and\n",
        "interpret the resultsE"
      ],
      "metadata": {
        "id": "hHmj6rndyna3"
      }
    },
    {
      "cell_type": "code",
      "source": [
        "#Ans\n",
        "import numpy as np\n",
        "from scipy.stats import norm\n",
        "\n",
        "def z_test(sample, pop_mean, pop_std, alpha=0.05):\n",
        "    sample_mean = np.mean(sample)\n",
        "    n = len(sample)\n",
        "    z = (sample_mean - pop_mean) / (pop_std / np.sqrt(n))\n",
        "    p_value = 2 * (1 - norm.cdf(abs(z)))  # Two-tailed test\n",
        "\n",
        "    print(f\"Z-statistic: {z:.4f}\")\n",
        "    print(f\"P-value: {p_value:.4f}\")\n",
        "    if p_value < alpha:\n",
        "        print(\"Reject the null hypothesis.\")\n",
        "    else:\n",
        "        print(\"Fail to reject the null hypothesis.\")\n",
        "\n",
        "# Example data\n",
        "sample = np.random.normal(loc=52, scale=5, size=30)  # Sample\n",
        "population_mean = 50\n",
        "population_std = 5\n",
        "\n",
        "z_test(sample, population_mean, population_std)\n"
      ],
      "metadata": {
        "id": "QNRNNQWryvWe"
      },
      "execution_count": null,
      "outputs": []
    },
    {
      "cell_type": "markdown",
      "source": [
        "Qns-2 Simulate random data to perform hypothesis testing and calculate the corresponding P-value using Python?"
      ],
      "metadata": {
        "id": "N9FKwHCFzFnd"
      }
    },
    {
      "cell_type": "code",
      "source": [
        "#Ans\n",
        "import numpy as np\n",
        "from scipy.stats import ttest_1samp\n",
        "\n",
        "# Simulate random sample data from a normal distribution\n",
        "data = np.random.normal(loc=51, scale=5, size=30)\n",
        "\n",
        "# Population mean to test against\n",
        "pop_mean = 50\n",
        "\n",
        "# Perform one-sample t-test\n",
        "t_stat, p_value = ttest_1samp(data, pop_mean)\n",
        "\n",
        "# Output the results\n",
        "print(f\"T-statistic: {t_stat:.4f}\")\n",
        "print(f\"P-value: {p_value:.4f}\")\n",
        "\n",
        "# Interpretation\n",
        "if p_value < 0.05:\n",
        "    print(\"Reject the null hypothesis.\")\n",
        "else:\n",
        "    print(\"Fail to reject the null hypothesis.\")\n"
      ],
      "metadata": {
        "id": "BMoQeWXDzLzI"
      },
      "execution_count": null,
      "outputs": []
    },
    {
      "cell_type": "markdown",
      "source": [
        "Qns3-  Implement a one-sample Z-test using Python to compare the sample mean with the population mean?"
      ],
      "metadata": {
        "id": "GGjRocBZzVVt"
      }
    },
    {
      "cell_type": "code",
      "source": [
        "#Ans\n",
        "import numpy as np\n",
        "from scipy.stats import norm\n",
        "\n",
        "def z_test(sample, pop_mean, pop_std, alpha=0.05):\n",
        "    sample_mean = np.mean(sample)\n",
        "    n = len(sample)\n",
        "\n",
        "    # Z-statistic formula\n",
        "    z = (sample_mean - pop_mean) / (pop_std / np.sqrt(n))\n",
        "\n",
        "    # Calculate the p-value (two-tailed test)\n",
        "    p_value = 2 * (1 - norm.cdf(abs(z)))\n",
        "\n",
        "    print(f\"Z-statistic: {z:.4f}\")\n",
        "    print(f\"P-value: {p_value:.4f}\")\n",
        "\n",
        "    # Interpretation of the result\n",
        "    if p_value < alpha:\n",
        "        print(\"Reject the null hypothesis (statistically significant).\")\n",
        "    else:\n",
        "        print(\"Fail to reject the null hypothesis.\")\n",
        "\n",
        "# Simulated sample data (mean = 52, std = 10, n = 30)\n",
        "sample = np.random.normal(loc=52, scale=10, size=30)\n",
        "\n",
        "# Population mean and standard deviation\n",
        "population_mean = 50\n",
        "population_std = 10\n",
        "\n",
        "# Perform the Z-test\n",
        "z_test(sample, population_mean, population_std)\n"
      ],
      "metadata": {
        "colab": {
          "base_uri": "https://localhost:8080/"
        },
        "id": "XVcpe5Clzat9",
        "outputId": "0bc56b42-e484-4152-aead-04a17f8a4e74"
      },
      "execution_count": 16,
      "outputs": [
        {
          "output_type": "stream",
          "name": "stdout",
          "text": [
            "Z-statistic: -0.5780\n",
            "P-value: 0.5633\n",
            "Fail to reject the null hypothesis.\n"
          ]
        }
      ]
    },
    {
      "cell_type": "markdown",
      "source": [
        "Qns4-Perform a two-tailed Z-test using Python and visualize the decision region on a plot?"
      ],
      "metadata": {
        "id": "a0vUPgV1zvaD"
      }
    },
    {
      "cell_type": "code",
      "source": [
        "#Ans\n",
        "import numpy as np\n",
        "import matplotlib.pyplot as plt\n",
        "from scipy.stats import norm\n",
        "\n",
        "# Simulate sample data\n",
        "sample = np.random.normal(52, 10, 30)\n",
        "pop_mean, pop_std = 50, 10\n",
        "\n",
        "# Z-statistic calculation\n",
        "z = (np.mean(sample) - pop_mean) / (pop_std / np.sqrt(len(sample)))\n",
        "p_value = 2 * (1 - norm.cdf(abs(z)))\n",
        "\n",
        "# Decision region plot\n",
        "alpha = 0.05\n",
        "critical_value = norm.ppf(1 - alpha / 2)\n",
        "x = np.linspace(-4, 4, 1000)\n",
        "y = norm.pdf(x)\n",
        "\n",
        "plt.plot(x, y)\n",
        "plt.fill_between(x, y, where=(x < -critical_value) | (x > critical_value), color='red', alpha=0.5)\n",
        "plt.axvline(z, color='blue', linestyle='--')\n",
        "plt.title('Z-test Decision Region')\n",
        "plt.show()\n",
        "\n",
        "# Output\n",
        "print(f\"Z-statistic: {z:.4f}, P-value: {p_value:.4f}\")\n",
        "print(\"Reject H₀\" if p_value < alpha else \"Fail to reject H₀\")\n"
      ],
      "metadata": {
        "id": "ECUs0itzz0xv"
      },
      "execution_count": null,
      "outputs": []
    },
    {
      "cell_type": "markdown",
      "source": [
        "Qns-5 Create a Python function that calculates and visualizes Type 1 and Type 2 errors during hypothesis testing?"
      ],
      "metadata": {
        "id": "Su3YwtgG0kUK"
      }
    },
    {
      "cell_type": "code",
      "source": [
        "#Ans\n",
        "import numpy as np\n",
        "import matplotlib.pyplot as plt\n",
        "from scipy.stats import norm\n",
        "\n",
        "def type_errors(sample_mean, pop_mean, pop_std, alpha=0.05, n=30, true_mean=55):\n",
        "    z_critical = norm.ppf(1 - alpha / 2)\n",
        "    z_stat = (sample_mean - pop_mean) / (pop_std / np.sqrt(n))\n",
        "\n",
        "    # Type 1 and Type 2 error areas\n",
        "    type1_error = norm.cdf(-z_critical) + (1 - norm.cdf(z_critical))\n",
        "    z_stat_alt = (sample_mean - true_mean) / (pop_std / np.sqrt(n))\n",
        "    type2_error = norm.cdf(z_critical - z_stat_alt) - norm.cdf(-z_critical - z_stat_alt)\n",
        "\n",
        "    print(f\"Type 1 Error: {type1_error:.4f}, Type 2 Error: {type2_error:.4f}\")\n",
        "\n",
        "    # Plot\n",
        "    x = np.linspace(-4, 4, 1000)\n",
        "    plt.plot(x, norm.pdf(x, 0, 1))\n",
        "    plt.fill_between(x, norm.pdf(x, 0, 1), where=(x < -z_critical) | (x > z_critical), color='red', alpha=0.5)\n",
        "    plt.fill_between(x, norm.pdf(x, 0, 1), where=(x > z_stat_alt - z_critical) & (x < z_stat_alt + z_critical), color='yellow', alpha=0.5)\n",
        "    plt.axvline(z_stat, color='blue', linestyle='--')\n",
        "    plt.show()\n",
        "\n",
        "# Sample data\n",
        "sample_mean = 53\n",
        "pop_mean, pop_std = 50, 10\n",
        "type_errors(sample_mean, pop_mean, pop_std)\n"
      ],
      "metadata": {
        "id": "ZxQE3m6b1TVC"
      },
      "execution_count": null,
      "outputs": []
    },
    {
      "cell_type": "markdown",
      "source": [
        "Qns-6 Write a Python program to perform an independent T-test and interpret the results?"
      ],
      "metadata": {
        "id": "lOHqzn_L1Z_r"
      }
    },
    {
      "cell_type": "code",
      "source": [
        "#Ans\n",
        "import numpy as np\n",
        "from scipy.stats import ttest_ind\n",
        "\n",
        "# Simulate two independent sample datasets\n",
        "sample1 = np.random.normal(loc=50, scale=10, size=30)  # Sample 1\n",
        "sample2 = np.random.normal(loc=55, scale=10, size=30)  # Sample 2\n",
        "\n",
        "# Perform the independent T-test\n",
        "t_stat, p_value = ttest_ind(sample1, sample2)\n",
        "\n",
        "# Output the results\n",
        "print(f\"T-statistic: {t_stat:.4f}\")\n",
        "print(f\"P-value: {p_value:.4f}\")\n",
        "\n",
        "# Interpretation\n",
        "alpha = 0.05\n",
        "if p_value < alpha:\n",
        "    print(\"Reject the null hypothesis (statistically significant difference).\")\n",
        "else:\n",
        "    print(\"Fail to reject the null hypothesis (no significant difference).\")\n"
      ],
      "metadata": {
        "id": "e_YMbnhQ1g82"
      },
      "execution_count": null,
      "outputs": []
    },
    {
      "cell_type": "markdown",
      "source": [
        "Qns-7 Perform a paired sample T-test using Python and visualize the comparison results?"
      ],
      "metadata": {
        "id": "qejMgMas1xwX"
      }
    },
    {
      "cell_type": "code",
      "source": [
        "#Ans\n",
        "import numpy as np\n",
        "from scipy.stats import ttest_rel\n",
        "import matplotlib.pyplot as plt\n",
        "\n",
        "# Simulate two related sample datasets (before and after treatment)\n",
        "before_treatment = np.random.normal(loc=50, scale=10, size=30)\n",
        "after_treatment = before_treatment + np.random.normal(loc=5, scale=5, size=30)\n",
        "\n",
        "# Perform the paired sample T-test\n",
        "t_stat, p_value = ttest_rel(before_treatment, after_treatment)\n",
        "\n",
        "# Output the results\n",
        "print(f\"T-statistic: {t_stat:.4f}\")\n",
        "print(f\"P-value: {p_value:.4f}\")\n",
        "\n",
        "# Interpretation\n",
        "alpha = 0.05\n",
        "if p_value < alpha:\n",
        "    print(\"Reject the null hypothesis (significant difference).\")\n",
        "else:\n",
        "    print(\"Fail to reject the null hypothesis (no significant difference).\")\n",
        "\n",
        "# Visualization of the comparison (before and after treatment)\n",
        "plt.figure(figsize=(8, 6))\n",
        "plt.plot(before_treatment, label='Before Treatment', marker='o', linestyle='dashed', color='blue')\n",
        "plt.plot(after_treatment, label='After Treatment', marker='o', linestyle='dashed', color='red')\n",
        "plt.title('Paired Sample Comparison (Before vs After Treatment)')\n",
        "plt.xlabel('Sample Index')\n",
        "plt.ylabel('Values')\n",
        "plt.legend()\n",
        "plt.grid(True)\n",
        "plt.show()\n"
      ],
      "metadata": {
        "id": "3u4Cvqwi2F_a"
      },
      "execution_count": null,
      "outputs": []
    },
    {
      "cell_type": "markdown",
      "source": [
        "Qns-8 Simulate data and perform both Z-test and T-test, then compare the results using Python?"
      ],
      "metadata": {
        "id": "0oTYJk5d2nbV"
      }
    },
    {
      "cell_type": "code",
      "source": [
        "#Ans\n",
        "import numpy as np\n",
        "from scipy.stats import norm, ttest_1samp\n",
        "np.random.seed(42)\n",
        "sample = np.random.normal(loc=55, scale=10, size=30)  # Sample data\n",
        "pop_mean = 50  # Population mean\n",
        "pop_std = 10   # Population standard deviation\n",
        "\n",
        "# Perform Z-test\n",
        "z_stat = (np.mean(sample) - pop_mean) / (pop_std / np.sqrt(len(sample)))  # Z-statistic\n",
        "p_value_z = 2 * (1 - norm.cdf(abs(z_stat)))  # Two-tailed p-value\n",
        "\n",
        "# Perform T-test\n",
        "t_stat, p_value_t = ttest_1samp(sample, pop_mean)  # One-sample T-test\n",
        "\n",
        "# Output the results\n",
        "print(f\"Z-statistic: {z_stat:.4f}, P-value (Z-test): {p_value_z:.4f}\")\n",
        "print(f\"T-statistic: {t_stat:.4f}, P-value (T-test): {p_value_t:.4f}\")\n",
        "\n",
        "# Interpretation\n",
        "alpha = 0.05\n",
        "print(\"\\nInterpretation:\")\n",
        "if p_value_z < alpha:\n",
        "    print(\"Z-test: Reject the null hypothesis (statistically significant).\")\n",
        "else:\n",
        "    print(\"Z-test: Fail to reject the null hypothesis (no significant difference).\")\n",
        "\n",
        "if p_value_t < alpha:\n",
        "    print(\"T-test: Reject the null hypothesis (statistically significant).\")\n",
        "else:\n",
        "    print(\"T-test: Fail to reject the null hypothesis (no significant difference).\")\n"
      ],
      "metadata": {
        "colab": {
          "base_uri": "https://localhost:8080/"
        },
        "id": "S2RbBCJh2qj7",
        "outputId": "06a6ae9a-7009-4102-d3f6-f4e9ab85e74b"
      },
      "execution_count": 17,
      "outputs": [
        {
          "output_type": "stream",
          "name": "stdout",
          "text": [
            "Z-statistic: 1.7081, P-value (Z-test): 0.0876\n",
            "T-statistic: 1.8979, P-value (T-test): 0.0677\n",
            "\n",
            "Interpretation:\n",
            "Z-test: Fail to reject the null hypothesis (no significant difference).\n",
            "T-test: Fail to reject the null hypothesis (no significant difference).\n"
          ]
        }
      ]
    },
    {
      "cell_type": "markdown",
      "source": [
        "Qns-9  Write a Python function to calculate the confidence interval for a sample mean and explain its significance?"
      ],
      "metadata": {
        "id": "n1m5oQly24YA"
      }
    },
    {
      "cell_type": "code",
      "source": [
        "#Ans\n",
        "import numpy as np\n",
        "from scipy.stats import t\n",
        "\n",
        "def confidence_interval(sample, confidence=0.95):\n",
        "    # Calculate sample mean and standard error\n",
        "    sample_mean = np.mean(sample)\n",
        "    sample_std = np.std(sample, ddof=1)  # Sample standard deviation\n",
        "    n = len(sample)\n",
        "    standard_error = sample_std / np.sqrt(n)\n",
        "\n",
        "    # Calculate the critical value from the t-distribution (for a 95% confidence level)\n",
        "    t_critical = t.ppf((1 + confidence) / 2, df=n-1)\n",
        "\n",
        "    # Calculate the margin of error\n",
        "    margin_of_error = t_critical * standard_error\n",
        "\n",
        "    # Confidence interval\n",
        "    lower_bound = sample_mean - margin_of_error\n",
        "    upper_bound = sample_mean + margin_of_error\n",
        "\n",
        "    return lower_bound, upper_bound\n",
        "\n",
        "# Example data\n",
        "np.random.seed(42)\n",
        "sample_data = np.random.normal(loc=50, scale=10, size=30)\n",
        "\n",
        "# Calculate the 95% confidence interval for the sample mean\n",
        "ci_lower, ci_upper = confidence_interval(sample_data)\n",
        "\n",
        "print(f\"95% Confidence Interval: ({ci_lower:.2f}, {ci_upper:.2f})\")\n"
      ],
      "metadata": {
        "id": "3DNE8imP28Ta"
      },
      "execution_count": null,
      "outputs": []
    },
    {
      "cell_type": "markdown",
      "source": [
        "Qns-10 Write a Python program to calculate the margin of error for a given confidence level using sample data?"
      ],
      "metadata": {
        "id": "mC-rtL3k3P6i"
      }
    },
    {
      "cell_type": "code",
      "source": [
        "#Ans\n",
        "import numpy as np\n",
        "from scipy.stats import t\n",
        "\n",
        "def margin_of_error(sample, confidence=0.95):\n",
        "    sample_mean = np.mean(sample)\n",
        "    sample_std = np.std(sample, ddof=1)\n",
        "    n = len(sample)\n",
        "    standard_error = sample_std / np.sqrt(n)\n",
        "    t_critical = t.ppf((1 + confidence) / 2, df=n-1)\n",
        "    margin_error = t_critical * standard_error\n",
        "    return margin_error\n",
        "\n",
        "np.random.seed(42)\n",
        "sample_data = np.random.normal(loc=50, scale=10, size=30)\n",
        "me = margin_of_error(sample_data)\n",
        "print(f\"Margin of Error for 95% confidence level: {me:.2f}\")\n"
      ],
      "metadata": {
        "id": "y7HuLQsB3VE7"
      },
      "execution_count": null,
      "outputs": []
    },
    {
      "cell_type": "markdown",
      "source": [
        "Qns-11 Implement a Bayesian inference method using Bayes' Theorem in Python and explain the process?"
      ],
      "metadata": {
        "id": "sZbqbE533jz1"
      }
    },
    {
      "cell_type": "code",
      "source": [
        "#aNS\n",
        "def bayesian_inference(P_H, P_E_given_H, P_E_given_not_H):\n",
        "    P_not_H = 1 - P_H\n",
        "    P_E = (P_E_given_H * P_H) + (P_E_given_not_H * P_not_H)\n",
        "    P_H_given_E = (P_E_given_H * P_H) / P_E\n",
        "    return P_H_given_E\n",
        "\n",
        "P_H = 0.01  # Prior probability of having the disease\n",
        "P_E_given_H = 0.9  # Likelihood of testing positive if you have the disease\n",
        "P_E_given_not_H = 0.05  # Likelihood of testing positive if you don't have the disease\n",
        "\n",
        "posterior = bayesian_inference(P_H, P_E_given_H, P_E_given_not_H)\n",
        "print(f\"Posterior probability of having the disease given a positive test result: {posterior:.4f}\")\n"
      ],
      "metadata": {
        "id": "I-7hLhH-3nR5"
      },
      "execution_count": null,
      "outputs": []
    },
    {
      "cell_type": "markdown",
      "source": [
        "Qns-12 Perform a Chi-square test for independence between two categorical variables in Python?"
      ],
      "metadata": {
        "id": "kJ9VYW8p39-F"
      }
    },
    {
      "cell_type": "code",
      "source": [
        "#Ans\n",
        "import numpy as np\n",
        "import pandas as pd\n",
        "from scipy.stats import chi2_contingency\n",
        "data = {'Male': [30, 10],\n",
        "        'Female': [15, 25]}\n",
        "\n",
        "# Convert to DataFrame\n",
        "df = pd.DataFrame(data, index=['Purchased', 'Not Purchased'])\n",
        "\n",
        "# Display the contingency table\n",
        "print(\"Contingency Table:\")\n",
        "print(df)\n",
        "\n",
        "# Perform Chi-square test for independence\n",
        "chi2_stat, p_value, dof, expected = chi2_contingency(df)\n",
        "\n",
        "# Output results\n",
        "print(\"\\nChi-square Test Results:\")\n",
        "print(f\"Chi2 Statistic: {chi2_stat:.4f}\")\n",
        "print(f\"P-value: {p_value:.4f}\")\n",
        "print(f\"Degrees of Freedom: {dof}\")\n",
        "print(f\"Expected frequencies table:\\n{expected}\")\n",
        "\n",
        "# Interpretation\n",
        "alpha = 0.05\n",
        "if p_value < alpha:\n",
        "    print(\"\\nReject the null hypothesis: The variables are dependent.\")\n",
        "else:\n",
        "    print(\"\\nFail to reject the null hypothesis: The variables are independent.\")\n"
      ],
      "metadata": {
        "id": "OyVRzq4A4EsJ"
      },
      "execution_count": null,
      "outputs": []
    },
    {
      "cell_type": "markdown",
      "source": [
        "Qns-13 Write a Python program to calculate the expected frequencies for a Chi-square test based on observed\n",
        "data?"
      ],
      "metadata": {
        "id": "1g4ns3Gi41K0"
      }
    },
    {
      "cell_type": "code",
      "source": [
        "#Ans\n",
        "import numpy as np\n",
        "\n",
        "def calculate_expected_frequencies(observed_data):\n",
        "    # Calculate the row totals and column totals\n",
        "    row_totals = np.sum(observed_data, axis=1, keepdims=True)\n",
        "    column_totals = np.sum(observed_data, axis=0, keepdims=True)\n",
        "\n",
        "    # Calculate the grand total\n",
        "    grand_total = np.sum(observed_data)\n",
        "\n",
        "    # Calculate the expected frequencies\n",
        "    expected_frequencies = (row_totals @ column_totals) / grand_total\n",
        "\n",
        "    return expected_frequencies\n",
        "\n",
        "# Example observed data: A contingency table (2x2)\n",
        "observed_data = np.array([[30, 15],\n",
        "                          [10, 25]])\n",
        "\n",
        "# Calculate expected frequencies\n",
        "expected_frequencies = calculate_expected_frequencies(observed_data)\n",
        "\n",
        "print(\"Observed Frequencies:\")\n",
        "print(observed_data)\n",
        "print(\"\\nExpected Frequencies:\")\n",
        "print(expected_frequencies)\n"
      ],
      "metadata": {
        "id": "I2hzLSQB45bV"
      },
      "execution_count": null,
      "outputs": []
    },
    {
      "cell_type": "markdown",
      "source": [
        "QNS-14 Perform a goodness-of-fit test using Python to compare the observed data to an expected distribution."
      ],
      "metadata": {
        "id": "I6B4VVMs5Eeb"
      }
    },
    {
      "cell_type": "code",
      "source": [
        "#Ans\n",
        "import scipy.stats as stats\n",
        "import numpy as np\n",
        "\n",
        "# Observed frequencies (the data we have)\n",
        "observed = np.array([9, 11, 8, 10, 12, 10])\n",
        "\n",
        "# Expected frequencies (uniform distribution, each die face should have equal probability)\n",
        "expected = np.array([10, 10, 10, 10, 10, 10])\n",
        "\n",
        "# Perform the chi-square test\n",
        "chi2_stat, p_value = stats.chisquare(observed, expected)\n",
        "\n",
        "# Output the results\n",
        "print(f\"Chi-Square Statistic: {chi2_stat}\")\n",
        "print(f\"P-Value: {p_value}\")\n",
        "\n",
        "# Interpretation of the result\n",
        "if p_value < 0.05:\n",
        "    print(\"Reject the null hypothesis: The data does not fit the expected distribution.\")\n",
        "else:\n",
        "    print(\"Fail to reject the null hypothesis: The data fits the expected distribution.\")\n"
      ],
      "metadata": {
        "colab": {
          "base_uri": "https://localhost:8080/"
        },
        "id": "qAb05s115K1b",
        "outputId": "b2585680-9b38-41fa-a70e-ab0729b7b7f0"
      },
      "execution_count": 18,
      "outputs": [
        {
          "output_type": "stream",
          "name": "stdout",
          "text": [
            "Chi-Square Statistic: 1.0\n",
            "P-Value: 0.9625657732472964\n",
            "Fail to reject the null hypothesis: The data fits the expected distribution.\n"
          ]
        }
      ]
    }
  ]
}